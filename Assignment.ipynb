{
 "cells": [
  {
   "cell_type": "markdown",
   "metadata": {
    "colab_type": "text",
    "id": "7eiDWcM_MC3H"
   },
   "source": [
    "# <font color='red'>Implement SGD Classifier with Logloss and L2 regularization Using SGD without using sklearn</font>"
   ]
  },
  {
   "cell_type": "markdown",
   "metadata": {
    "colab_type": "text",
    "id": "yfe2NTQtLq11"
   },
   "source": [
    "**There will be some functions that start with the word \"grader\" ex: grader_weights(), grader_sigmoid(), grader_logloss() etc, you should not change those function definition.<br><br>Every Grader function has to return True.**"
   ]
  },
  {
   "cell_type": "markdown",
   "metadata": {
    "colab_type": "text",
    "id": "Fk5DSPCLxqT-"
   },
   "source": [
    "<font color='red'> Importing packages</font>"
   ]
  },
  {
   "cell_type": "code",
   "execution_count": 1,
   "metadata": {
    "colab": {},
    "colab_type": "code",
    "id": "42Et8BKIxnsp"
   },
   "outputs": [],
   "source": [
    "import numpy as np\n",
    "import pandas as pd\n",
    "from sklearn.datasets import make_classification\n",
    "from sklearn.model_selection import train_test_split\n",
    "from sklearn.preprocessing import StandardScaler\n",
    "from sklearn import linear_model"
   ]
  },
  {
   "cell_type": "markdown",
   "metadata": {
    "colab_type": "text",
    "id": "NpSk3WQBx7TQ"
   },
   "source": [
    "<font color='red'>Creating custom dataset</font>"
   ]
  },
  {
   "cell_type": "code",
   "execution_count": 2,
   "metadata": {
    "colab": {},
    "colab_type": "code",
    "id": "BsMp0oWzx6dv"
   },
   "outputs": [],
   "source": [
    "# please don't change random_state\n",
    "X, y = make_classification(n_samples=50000, n_features=15, n_informative=10, n_redundant=5,\n",
    "                           n_classes=2, weights=[0.7], class_sep=0.7, random_state=15)\n",
    "# make_classification is used to create custom dataset \n",
    "# Please check this link\n",
    "#(https://scikit-learn.org/stable/modules/generated/sklearn.datasets.make_classification.html) for more details"
   ]
  },
  {
   "cell_type": "code",
   "execution_count": 3,
   "metadata": {
    "colab": {
     "base_uri": "https://localhost:8080/",
     "height": 34
    },
    "colab_type": "code",
    "id": "L8W2fg1cyGdX",
    "outputId": "029d4c84-03b2-4143-a04c-34ff49c88890"
   },
   "outputs": [
    {
     "data": {
      "text/plain": [
       "((50000, 15), (50000,))"
      ]
     },
     "execution_count": 3,
     "metadata": {},
     "output_type": "execute_result"
    }
   ],
   "source": [
    "X.shape, y.shape"
   ]
  },
  {
   "cell_type": "markdown",
   "metadata": {
    "colab_type": "text",
    "id": "x99RWCgpqNHw"
   },
   "source": [
    "<font color='red'>Splitting data into train and test </font>"
   ]
  },
  {
   "cell_type": "code",
   "execution_count": 4,
   "metadata": {
    "colab": {},
    "colab_type": "code",
    "id": "0Kh4dBfVyJMP"
   },
   "outputs": [],
   "source": [
    "#please don't change random state\n",
    "X_train, X_test, y_train, y_test = train_test_split(X, y, test_size=0.25, random_state=15)"
   ]
  },
  {
   "cell_type": "code",
   "execution_count": 7,
   "metadata": {
    "colab": {},
    "colab_type": "code",
    "id": "gONY1YiDq7jD"
   },
   "outputs": [],
   "source": [
    "# Standardizing the data.\n",
    "scaler = StandardScaler()\n",
    "X_train = scaler.fit_transform(X_train)\n",
    "X_test = scaler.transform(X_test)"
   ]
  },
  {
   "cell_type": "code",
   "execution_count": 8,
   "metadata": {
    "colab": {
     "base_uri": "https://localhost:8080/",
     "height": 34
    },
    "colab_type": "code",
    "id": "0DR_YMBsyOci",
    "outputId": "732014d9-1731-4d3f-918f-a9f5255ee149"
   },
   "outputs": [
    {
     "data": {
      "text/plain": [
       "((37500, 15), (37500,), (12500, 15), (12500,))"
      ]
     },
     "execution_count": 8,
     "metadata": {},
     "output_type": "execute_result"
    }
   ],
   "source": [
    "X_train.shape, y_train.shape, X_test.shape, y_test.shape"
   ]
  },
  {
   "cell_type": "markdown",
   "metadata": {
    "colab_type": "text",
    "id": "BW4OHswfqjHR"
   },
   "source": [
    "# <font color='red' size=5>SGD classifier</font>"
   ]
  },
  {
   "cell_type": "code",
   "execution_count": 9,
   "metadata": {
    "colab": {
     "base_uri": "https://localhost:8080/",
     "height": 118
    },
    "colab_type": "code",
    "id": "3HpvTwDHyQQy",
    "outputId": "5729f08c-079a-4b17-bf51-f9aeb5abb13b"
   },
   "outputs": [
    {
     "data": {
      "text/plain": [
       "SGDClassifier(eta0=0.0001, learning_rate='constant', loss='log',\n",
       "              random_state=15, verbose=2)"
      ]
     },
     "execution_count": 9,
     "metadata": {},
     "output_type": "execute_result"
    }
   ],
   "source": [
    "# alpha : float\n",
    "# Constant that multiplies the regularization term. \n",
    "\n",
    "# eta0 : double\n",
    "# The initial learning rate for the ‘constant’, ‘invscaling’ or ‘adaptive’ schedules.\n",
    "\n",
    "clf = linear_model.SGDClassifier(eta0=0.0001, alpha=0.0001, loss='log', random_state=15, penalty='l2', tol=1e-3, verbose=2, learning_rate='constant')\n",
    "clf\n",
    "# Please check this documentation (https://scikit-learn.org/stable/modules/generated/sklearn.linear_model.SGDClassifier.html) "
   ]
  },
  {
   "cell_type": "code",
   "execution_count": 10,
   "metadata": {
    "colab": {
     "base_uri": "https://localhost:8080/",
     "height": 638
    },
    "colab_type": "code",
    "id": "YYaVyQ2lyXcr",
    "outputId": "dc0bf840-b37e-4552-e513-84b64f6c64c4"
   },
   "outputs": [
    {
     "name": "stdout",
     "output_type": "stream",
     "text": [
      "-- Epoch 1\n",
      "Norm: 0.70, NNZs: 15, Bias: -0.501317, T: 37500, Avg. loss: 0.552526\n",
      "Total training time: 0.01 seconds.\n",
      "-- Epoch 2\n",
      "Norm: 1.04, NNZs: 15, Bias: -0.752393, T: 75000, Avg. loss: 0.448021\n",
      "Total training time: 0.02 seconds.\n",
      "-- Epoch 3\n",
      "Norm: 1.26, NNZs: 15, Bias: -0.902742, T: 112500, Avg. loss: 0.415724\n",
      "Total training time: 0.02 seconds.\n",
      "-- Epoch 4\n",
      "Norm: 1.43, NNZs: 15, Bias: -1.003816, T: 150000, Avg. loss: 0.400895\n",
      "Total training time: 0.03 seconds.\n",
      "-- Epoch 5\n",
      "Norm: 1.55, NNZs: 15, Bias: -1.076296, T: 187500, Avg. loss: 0.392879\n",
      "Total training time: 0.04 seconds.\n",
      "-- Epoch 6\n",
      "Norm: 1.65, NNZs: 15, Bias: -1.131077, T: 225000, Avg. loss: 0.388094\n",
      "Total training time: 0.05 seconds.\n",
      "-- Epoch 7\n",
      "Norm: 1.73, NNZs: 15, Bias: -1.171791, T: 262500, Avg. loss: 0.385077\n",
      "Total training time: 0.05 seconds.\n",
      "-- Epoch 8\n",
      "Norm: 1.80, NNZs: 15, Bias: -1.203840, T: 300000, Avg. loss: 0.383074\n",
      "Total training time: 0.06 seconds.\n",
      "-- Epoch 9\n",
      "Norm: 1.86, NNZs: 15, Bias: -1.229563, T: 337500, Avg. loss: 0.381703\n",
      "Total training time: 0.07 seconds.\n",
      "-- Epoch 10\n",
      "Norm: 1.90, NNZs: 15, Bias: -1.251245, T: 375000, Avg. loss: 0.380763\n",
      "Total training time: 0.07 seconds.\n",
      "-- Epoch 11\n",
      "Norm: 1.94, NNZs: 15, Bias: -1.269044, T: 412500, Avg. loss: 0.380084\n",
      "Total training time: 0.08 seconds.\n",
      "-- Epoch 12\n",
      "Norm: 1.98, NNZs: 15, Bias: -1.282485, T: 450000, Avg. loss: 0.379607\n",
      "Total training time: 0.09 seconds.\n",
      "-- Epoch 13\n",
      "Norm: 2.01, NNZs: 15, Bias: -1.294386, T: 487500, Avg. loss: 0.379251\n",
      "Total training time: 0.09 seconds.\n",
      "-- Epoch 14\n",
      "Norm: 2.03, NNZs: 15, Bias: -1.305805, T: 525000, Avg. loss: 0.378992\n",
      "Total training time: 0.10 seconds.\n",
      "Convergence after 14 epochs took 0.10 seconds\n"
     ]
    },
    {
     "data": {
      "text/plain": [
       "SGDClassifier(eta0=0.0001, learning_rate='constant', loss='log',\n",
       "              random_state=15, verbose=2)"
      ]
     },
     "execution_count": 10,
     "metadata": {},
     "output_type": "execute_result"
    }
   ],
   "source": [
    "clf.fit(X=X_train, y=y_train) # fitting our model"
   ]
  },
  {
   "cell_type": "code",
   "execution_count": 11,
   "metadata": {
    "colab": {
     "base_uri": "https://localhost:8080/",
     "height": 101
    },
    "colab_type": "code",
    "id": "EAfkVI6GyaRO",
    "outputId": "bc88f920-6531-4106-9b4c-4dabb6d72b47"
   },
   "outputs": [
    {
     "data": {
      "text/plain": [
       "(array([[-0.89007184,  0.63162363, -0.07594145,  0.63107107, -0.38434375,\n",
       "          0.93235243, -0.89573521, -0.07340522,  0.40591417,  0.4199991 ,\n",
       "          0.24722143,  0.05046199, -0.08877987,  0.54081652,  0.06643888]]),\n",
       " (1, 15),\n",
       " array([-1.30580538]))"
      ]
     },
     "execution_count": 11,
     "metadata": {},
     "output_type": "execute_result"
    }
   ],
   "source": [
    "clf.coef_, clf.coef_.shape, clf.intercept_\n",
    "#clf.coef_ will return the weights\n",
    "#clf.coef_.shape will return the shape of weights\n",
    "#clf.intercept_ will return the intercept term"
   ]
  },
  {
   "cell_type": "markdown",
   "metadata": {
    "colab_type": "text",
    "id": "_-CcGTKgsMrY"
   },
   "source": [
    "\n",
    "\n",
    "```\n",
    "# This is formatted as code\n",
    "```\n",
    "\n",
    "## <font color='red' size=5> Implement Logistic Regression with L2 regularization Using SGD: without using sklearn </font>\n",
    "\n"
   ]
  },
  {
   "cell_type": "markdown",
   "metadata": {
    "colab_type": "text",
    "id": "W1_8bdzitDlM"
   },
   "source": [
    "\n",
    "\n",
    "\n",
    "1.  We will be giving you some functions, please write code in that functions only.\n",
    "\n",
    "2.  After every function, we will be giving you expected output, please make sure that you get that output. \n",
    "\n",
    "\n",
    "\n"
   ]
  },
  {
   "cell_type": "markdown",
   "metadata": {
    "colab_type": "text",
    "id": "zU2Y3-FQuJ3z"
   },
   "source": [
    "\n",
    "<br>\n",
    "\n",
    "* Initialize the weight_vector and intercept term to zeros (Write your code in <font color='blue'>def initialize_weights()</font>)\n",
    "\n",
    "* Create a loss function (Write your code in <font color='blue'>def logloss()</font>) \n",
    "\n",
    " $log loss = -1*\\frac{1}{n}\\Sigma_{for each Yt,Y_{pred}}(Ytlog10(Y_{pred})+(1-Yt)log10(1-Y_{pred}))$\n",
    "- for each epoch:\n",
    "\n",
    "    - for each batch of data points in train: (keep batch size=1)\n",
    "\n",
    "        - calculate the gradient of loss function w.r.t each weight in weight vector (write your code in <font color='blue'>def gradient_dw()</font>)\n",
    "\n",
    "        $dw^{(t)} = x_n(y_n − σ((w^{(t)})^{T} x_n+b^{t}))- \\frac{λ}{N}w^{(t)})$ <br>\n",
    "\n",
    "        - Calculate the gradient of the intercept (write your code in <font color='blue'> def gradient_db()</font>) <a href='https://drive.google.com/file/d/1nQ08-XY4zvOLzRX-lGf8EYB5arb7-m1H/view?usp=sharing'>check this</a>\n",
    "\n",
    "           $ db^{(t)} = y_n- σ((w^{(t)})^{T} x_n+b^{t}))$\n",
    "\n",
    "        - Update weights and intercept (check the equation number 32 in the above mentioned <a href='https://drive.google.com/file/d/1nQ08-XY4zvOLzRX-lGf8EYB5arb7-m1H/view?usp=sharing'>pdf</a>): <br>\n",
    "        $w^{(t+1)}← w^{(t)}+α(dw^{(t)}) $<br>\n",
    "\n",
    "        $b^{(t+1)}←b^{(t)}+α(db^{(t)}) $\n",
    "    - calculate the log loss for train and test with the updated weights (you can check the python assignment 10th question)\n",
    "    - And if you wish, you can compare the previous loss and the current loss, if it is not updating, then\n",
    "        you can stop the training\n",
    "    - append this loss in the list ( this will be used to see how loss is changing for each epoch after the training is over )\n"
   ]
  },
  {
   "cell_type": "markdown",
   "metadata": {
    "colab_type": "text",
    "id": "ZR_HgjgS_wKu"
   },
   "source": [
    "<font color='blue'>Initialize weights </font>"
   ]
  },
  {
   "cell_type": "code",
   "execution_count": 24,
   "metadata": {
    "colab": {},
    "colab_type": "code",
    "id": "GecwYV9fsKZ9"
   },
   "outputs": [],
   "source": [
    "def initialize_weights(dim):\n",
    "    ''' In this function, we will initialize our weights and bias'''\n",
    "    column = len(dim)\n",
    "    total_element = 1*column\n",
    "    w = np.arange(total_element, dtype=float)\n",
    "    # w = w.reshape((1, column))\n",
    "    w = np.zeros_like(w)\n",
    "    \n",
    "    b = 0\n",
    "    \n",
    "    print(len(w))\n",
    "\n",
    "     \n",
    "    #initialize the weights to zeros array of (1,dim) dimensions\n",
    "    #you use zeros_like function to initialize zero, \n",
    "    #check this link https://docs.scipy.org/doc/numpy/reference/generated/numpy.zeros_like.html\n",
    "    #initialize bias to zero\n",
    "\n",
    "    return w,b"
   ]
  },
  {
   "cell_type": "code",
   "execution_count": 25,
   "metadata": {
    "colab": {},
    "colab_type": "code",
    "id": "A7I6uWBRsKc4"
   },
   "outputs": [
    {
     "name": "stdout",
     "output_type": "stream",
     "text": [
      "15\n",
      "w = [0. 0. 0. 0. 0. 0. 0. 0. 0. 0. 0. 0. 0. 0. 0.]\n",
      "b = 0\n",
      "[-0.39348337 -0.19771903 -0.15037836 -0.21528098 -1.28594363 -0.66049132\n",
      "  0.04140556 -0.22680269 -0.511055   -0.42871073  0.4210912   0.22560347\n",
      " -0.6624427  -0.68888516  0.56015427]\n",
      "15\n"
     ]
    }
   ],
   "source": [
    "dim=X_train[0] \n",
    "w,b = initialize_weights(dim)\n",
    "print('w =',(w))\n",
    "print('b =',str(b))\n",
    "print(dim)\n",
    "print(len(dim))"
   ]
  },
  {
   "cell_type": "markdown",
   "metadata": {
    "colab_type": "text",
    "id": "4MI5SAjP9ofN"
   },
   "source": [
    "<font color='cyan'>Grader function - 1 </font>"
   ]
  },
  {
   "cell_type": "code",
   "execution_count": 26,
   "metadata": {
    "colab": {},
    "colab_type": "code",
    "id": "Pv1llH429wG5"
   },
   "outputs": [
    {
     "name": "stdout",
     "output_type": "stream",
     "text": [
      "15\n"
     ]
    },
    {
     "data": {
      "text/plain": [
       "True"
      ]
     },
     "execution_count": 26,
     "metadata": {},
     "output_type": "execute_result"
    }
   ],
   "source": [
    "dim=X_train[0] \n",
    "w,b = initialize_weights(dim)\n",
    "def grader_weights(w,b):\n",
    "  assert((len(w)==len(dim)) and b==0 and np.sum(w)==0.0)\n",
    "  return True\n",
    "grader_weights(w,b)"
   ]
  },
  {
   "cell_type": "markdown",
   "metadata": {
    "colab_type": "text",
    "id": "QN83oMWy_5rv"
   },
   "source": [
    "<font color='blue'>Compute sigmoid </font>"
   ]
  },
  {
   "cell_type": "markdown",
   "metadata": {
    "colab_type": "text",
    "id": "qPv4NJuxABgs"
   },
   "source": [
    "$sigmoid(z)= 1/(1+exp(-z))$"
   ]
  },
  {
   "cell_type": "code",
   "execution_count": 27,
   "metadata": {
    "colab": {},
    "colab_type": "code",
    "id": "nAfmQF47_Sd6"
   },
   "outputs": [],
   "source": [
    "def sigmoid(z):\n",
    "    ''' In this function, we will return sigmoid of z'''\n",
    "    # compute sigmoid(z) and return\n",
    "    sigmoid_distance = 1 / (1 + np.exp(-1*z))\n",
    "    return sigmoid_distance"
   ]
  },
  {
   "cell_type": "markdown",
   "metadata": {
    "colab_type": "text",
    "id": "9YrGDwg3Ae4m"
   },
   "source": [
    "<font color='cyan'>Grader function - 2</font>"
   ]
  },
  {
   "cell_type": "code",
   "execution_count": 28,
   "metadata": {
    "colab": {},
    "colab_type": "code",
    "id": "P_JASp_NAfK_"
   },
   "outputs": [
    {
     "data": {
      "text/plain": [
       "True"
      ]
     },
     "execution_count": 28,
     "metadata": {},
     "output_type": "execute_result"
    }
   ],
   "source": [
    "def grader_sigmoid(z):\n",
    "  val=sigmoid(z)\n",
    "  assert(val==0.8807970779778823)\n",
    "  return True\n",
    "grader_sigmoid(2)"
   ]
  },
  {
   "cell_type": "markdown",
   "metadata": {
    "colab_type": "text",
    "id": "gS7JXbcrBOFF"
   },
   "source": [
    "<font color='blue'> Compute loss </font>"
   ]
  },
  {
   "cell_type": "markdown",
   "metadata": {
    "colab_type": "text",
    "id": "lfEiS22zBVYy"
   },
   "source": [
    "$log loss = -1*\\frac{1}{n}\\Sigma_{for each Yt,Y_{pred}}(Ytlog10(Y_{pred})+(1-Yt)log10(1-Y_{pred}))$"
   ]
  },
  {
   "cell_type": "code",
   "execution_count": 192,
   "metadata": {
    "colab": {},
    "colab_type": "code",
    "id": "VaFDgsp3sKi6"
   },
   "outputs": [],
   "source": [
    "def logloss(y_true,y_pred):\n",
    "    '''In this function, we will compute log loss '''\n",
    "    product_of_t_and_pred = 0\n",
    "    product_of_one_minus_t_and_pred = 0\n",
    "    number_of_element = len(y_true)\n",
    "    for t, pred in zip(y_true, y_pred):\n",
    "        #print(t, pred)\n",
    "        product_of_t_and_pred += t * np.log10(pred)\n",
    "        product_of_one_minus_t_and_pred += (1 - t) * np.log10(1 - pred)\n",
    "        \n",
    "    loss = -1 * (product_of_t_and_pred + product_of_one_minus_t_and_pred) / number_of_element\n",
    "\n",
    "    return loss"
   ]
  },
  {
   "cell_type": "markdown",
   "metadata": {
    "colab_type": "text",
    "id": "Zs1BTXVSClBt"
   },
   "source": [
    "<font color='cyan'>Grader function - 3 </font>"
   ]
  },
  {
   "cell_type": "code",
   "execution_count": 193,
   "metadata": {
    "colab": {},
    "colab_type": "code",
    "id": "LzttjvBFCuQ5"
   },
   "outputs": [
    {
     "data": {
      "text/plain": [
       "True"
      ]
     },
     "execution_count": 193,
     "metadata": {},
     "output_type": "execute_result"
    }
   ],
   "source": [
    "def grader_logloss(true,pred):\n",
    "  loss=logloss(true,pred)\n",
    "  assert(loss==0.07644900402910389)\n",
    "  return True\n",
    "true=[1,1,0,1,0]\n",
    "pred=[0.9,0.8,0.1,0.8,0.2]\n",
    "grader_logloss(true,pred)"
   ]
  },
  {
   "cell_type": "markdown",
   "metadata": {
    "colab_type": "text",
    "id": "tQabIadLCBAB"
   },
   "source": [
    "<font color='blue'>Compute gradient w.r.to  'w' </font>"
   ]
  },
  {
   "cell_type": "markdown",
   "metadata": {
    "colab_type": "text",
    "id": "YTMxiYKaCQgd"
   },
   "source": [
    "$dw^{(t)} = x_n(y_n − σ((w^{(t)})^{T} x_n+b^{t}))- \\frac{λ}{N}w^{(t)}$ <br>"
   ]
  },
  {
   "cell_type": "code",
   "execution_count": 158,
   "metadata": {
    "colab": {},
    "colab_type": "code",
    "id": "NMVikyuFsKo5"
   },
   "outputs": [],
   "source": [
    "def sigmoid_distance(w, x, b):\n",
    "    sigmoid_distance = 1 / (1 + np.exp(-1*np.dot(x, w)+b))\n",
    "    return sigmoid_distance\n",
    "\n",
    "#xn(yn − σ((w(t))T xn)) − λ/Nw(t)\n",
    "#m=(1-((eta0*alpha)/N))*wt + eta0*X_train[i] * (y_train[i]-sigmoid(wt,X_train[i],bt))\n",
    "def gradient_dw(x,y,w,b,alpha,N):\n",
    "    eta0 = alpha\n",
    "    '''In this function, we will compute the gardient w.r.to w '''\n",
    "    for xi in x:\n",
    "#         dw = (1-((eta0*alpha)/N))*w + eta0*x * (y-sigmoid_distance(w,x,b))\n",
    "        dw = (xi * ( y - sigmoid_distance(w, x, b)) - ((alpha)/N)*w)\n",
    "    return dw"
   ]
  },
  {
   "cell_type": "markdown",
   "metadata": {
    "colab_type": "text",
    "id": "RUFLNqL_GER9"
   },
   "source": [
    "<font color='cyan'>Grader function - 4 </font>"
   ]
  },
  {
   "cell_type": "code",
   "execution_count": 160,
   "metadata": {
    "colab": {},
    "colab_type": "code",
    "id": "WI3xD8ctGEnJ",
    "scrolled": true
   },
   "outputs": [
    {
     "name": "stdout",
     "output_type": "stream",
     "text": [
      "15\n",
      "37500 15\n",
      "[2.77293046 2.77293046 2.77293046 2.77293046 2.77293046 2.77293046\n",
      " 2.77293046 2.77293046 2.77293046 2.77293046 2.77293046 2.77293046\n",
      " 2.77293046 2.77293046 2.77293046]\n"
     ]
    },
    {
     "ename": "AssertionError",
     "evalue": "",
     "output_type": "error",
     "traceback": [
      "\u001b[0;31m---------------------------------------------------------------------------\u001b[0m",
      "\u001b[0;31mAssertionError\u001b[0m                            Traceback (most recent call last)",
      "\u001b[0;32m<ipython-input-160-7a1fb0bbe96f>\u001b[0m in \u001b[0;36m<module>\u001b[0;34m\u001b[0m\n\u001b[1;32m     14\u001b[0m \u001b[0mN\u001b[0m\u001b[0;34m=\u001b[0m\u001b[0mlen\u001b[0m\u001b[0;34m(\u001b[0m\u001b[0mX_train\u001b[0m\u001b[0;34m)\u001b[0m\u001b[0;34m\u001b[0m\u001b[0;34m\u001b[0m\u001b[0m\n\u001b[1;32m     15\u001b[0m \u001b[0mprint\u001b[0m\u001b[0;34m(\u001b[0m\u001b[0mN\u001b[0m\u001b[0;34m,\u001b[0m \u001b[0mlen\u001b[0m\u001b[0;34m(\u001b[0m\u001b[0mgrad_x\u001b[0m\u001b[0;34m)\u001b[0m\u001b[0;34m)\u001b[0m\u001b[0;34m\u001b[0m\u001b[0;34m\u001b[0m\u001b[0m\n\u001b[0;32m---> 16\u001b[0;31m \u001b[0mgrader_dw\u001b[0m\u001b[0;34m(\u001b[0m\u001b[0mgrad_x\u001b[0m\u001b[0;34m,\u001b[0m\u001b[0mgrad_y\u001b[0m\u001b[0;34m,\u001b[0m\u001b[0mgrad_w\u001b[0m\u001b[0;34m,\u001b[0m\u001b[0mgrad_b\u001b[0m\u001b[0;34m,\u001b[0m\u001b[0malpha\u001b[0m\u001b[0;34m,\u001b[0m\u001b[0mN\u001b[0m\u001b[0;34m)\u001b[0m\u001b[0;34m\u001b[0m\u001b[0;34m\u001b[0m\u001b[0m\n\u001b[0m",
      "\u001b[0;32m<ipython-input-160-7a1fb0bbe96f>\u001b[0m in \u001b[0;36mgrader_dw\u001b[0;34m(x, y, w, b, alpha, N)\u001b[0m\n\u001b[1;32m      2\u001b[0m     \u001b[0mgrad_dw\u001b[0m\u001b[0;34m=\u001b[0m\u001b[0mgradient_dw\u001b[0m\u001b[0;34m(\u001b[0m\u001b[0mx\u001b[0m\u001b[0;34m,\u001b[0m\u001b[0my\u001b[0m\u001b[0;34m,\u001b[0m\u001b[0mw\u001b[0m\u001b[0;34m,\u001b[0m\u001b[0mb\u001b[0m\u001b[0;34m,\u001b[0m\u001b[0malpha\u001b[0m\u001b[0;34m,\u001b[0m\u001b[0mN\u001b[0m\u001b[0;34m)\u001b[0m\u001b[0;34m\u001b[0m\u001b[0;34m\u001b[0m\u001b[0m\n\u001b[1;32m      3\u001b[0m     \u001b[0mprint\u001b[0m\u001b[0;34m(\u001b[0m\u001b[0mgrad_dw\u001b[0m\u001b[0;34m)\u001b[0m\u001b[0;34m\u001b[0m\u001b[0;34m\u001b[0m\u001b[0m\n\u001b[0;32m----> 4\u001b[0;31m     \u001b[0;32massert\u001b[0m\u001b[0;34m(\u001b[0m\u001b[0mnp\u001b[0m\u001b[0;34m.\u001b[0m\u001b[0msum\u001b[0m\u001b[0;34m(\u001b[0m\u001b[0mgrad_dw\u001b[0m\u001b[0;34m)\u001b[0m\u001b[0;34m==\u001b[0m\u001b[0;36m2.613689585\u001b[0m\u001b[0;34m)\u001b[0m\u001b[0;34m\u001b[0m\u001b[0;34m\u001b[0m\u001b[0m\n\u001b[0m\u001b[1;32m      5\u001b[0m     \u001b[0;32mreturn\u001b[0m \u001b[0;32mTrue\u001b[0m\u001b[0;34m\u001b[0m\u001b[0;34m\u001b[0m\u001b[0m\n\u001b[1;32m      6\u001b[0m \u001b[0;34m\u001b[0m\u001b[0m\n",
      "\u001b[0;31mAssertionError\u001b[0m: "
     ]
    }
   ],
   "source": [
    "def grader_dw(x,y,w,b,alpha,N):\n",
    "    grad_dw=gradient_dw(x,y,w,b,alpha,N)\n",
    "    print(grad_dw)\n",
    "    assert(np.sum(grad_dw)==2.613689585)\n",
    "    return True\n",
    "\n",
    "\n",
    "grad_x=np.array([-2.07864835,  3.31604252, -0.79104357, -3.87045546, -1.14783286,\n",
    "       -2.81434437, -0.86771071, -0.04073287,  0.84827878,  1.99451725,\n",
    "        3.67152472,  0.01451875,  2.01062888,  0.07373904, -5.54586092])\n",
    "grad_y=0\n",
    "grad_w,grad_b=initialize_weights(grad_x)\n",
    "alpha=0.0001\n",
    "N=len(X_train)\n",
    "print(N, len(grad_x))\n",
    "grader_dw(grad_x,grad_y,grad_w,grad_b,alpha,N)"
   ]
  },
  {
   "cell_type": "code",
   "execution_count": 154,
   "metadata": {
    "colab": {},
    "colab_type": "code",
    "id": "0nUf2ft4EZp8"
   },
   "outputs": [],
   "source": [
    "def sigmoid_distance(w, x, b):\n",
    "    sigmoid_distance = 1 / (1 + np.exp(-1*np.dot(x, w)+b))\n",
    "    return sigmoid_distance\n",
    "\n",
    "# In this function, we will compute gradient w.r.to b \n",
    "def gradient_db(x,y,w,b):\n",
    "    db = (y - sigmoid_distance(w, x, b))\n",
    "    return db"
   ]
  },
  {
   "cell_type": "markdown",
   "metadata": {
    "colab_type": "text",
    "id": "pbcBzufVG6qk"
   },
   "source": [
    "<font color='cyan'>Grader function - 5 </font>"
   ]
  },
  {
   "cell_type": "code",
   "execution_count": 155,
   "metadata": {
    "colab": {},
    "colab_type": "code",
    "id": "TfFDKmscG5qZ"
   },
   "outputs": [
    {
     "name": "stdout",
     "output_type": "stream",
     "text": [
      "15\n"
     ]
    },
    {
     "data": {
      "text/plain": [
       "True"
      ]
     },
     "execution_count": 155,
     "metadata": {},
     "output_type": "execute_result"
    }
   ],
   "source": [
    "def grader_db(x,y,w,b):\n",
    "  grad_db=gradient_db(x,y,w,b)\n",
    "  assert(grad_db==-0.5)\n",
    "  return True\n",
    "grad_x=np.array([-2.07864835,  3.31604252, -0.79104357, -3.87045546, -1.14783286,\n",
    "       -2.81434437, -0.86771071, -0.04073287,  0.84827878,  1.99451725,\n",
    "        3.67152472,  0.01451875,  2.01062888,  0.07373904, -5.54586092])\n",
    "grad_y=0\n",
    "grad_w,grad_b=initialize_weights(grad_x)\n",
    "alpha=0.0001\n",
    "N=len(X_train)\n",
    "grader_db(grad_x,grad_y,grad_w,grad_b)"
   ]
  },
  {
   "cell_type": "markdown",
   "metadata": {
    "colab_type": "text",
    "id": "TCK0jY_EOvyU"
   },
   "source": [
    "<font color='blue'> Implementing logistic regression</font>"
   ]
  },
  {
   "cell_type": "code",
   "execution_count": 131,
   "metadata": {},
   "outputs": [],
   "source": [
    "#Here eta0 is learning rate\n",
    "#implement the code as follows\n",
    "# initalize the weights (call the initialize_weights(X_train[0]) function)\n",
    "# for every epoch\n",
    "# for every data point(X_train,y_train)\n",
    "#compute gradient w.r.to w (call the gradient_dw() function)\n",
    "#compute gradient w.r.to b (call the gradient_db() function)\n",
    "#update w, b\n",
    "# predict the output of x_train[for all data points in X_train] using w,b\n",
    "#compute the loss between predicted and actual values (call the loss function)\n",
    "# store all the train loss values in a list\n",
    "# predict the output of x_test[for all data points in X_test] using w,b\n",
    "#compute the loss between predicted and actual values (call the loss function)\n",
    "# store all the test loss values in a list\n",
    "# you can also compare previous loss and current loss, \n",
    "#if loss is not updating then stop the process and return w,b"
   ]
  },
  {
   "cell_type": "code",
   "execution_count": 220,
   "metadata": {},
   "outputs": [],
   "source": [
    "def pred(w,b, X):\n",
    "    N = len(X)\n",
    "    predict = []\n",
    "    for i in range(N):\n",
    "        z=np.dot(w,X[i])+b\n",
    "        predict.append(sigmoid(z)) \n",
    "    return np.array(predict)"
   ]
  },
  {
   "cell_type": "code",
   "execution_count": 221,
   "metadata": {},
   "outputs": [],
   "source": [
    "train_loss_values = []\n",
    "test_loss_values = []"
   ]
  },
  {
   "cell_type": "code",
   "execution_count": 234,
   "metadata": {
    "colab": {},
    "colab_type": "code",
    "id": "dmAdc5ejEZ25"
   },
   "outputs": [],
   "source": [
    "def train(X_train,y_train,X_test,y_test,epochs,alpha,eta0):\n",
    "    ''' In this function, we will implement logistic regression'''\n",
    "    w, b = initialize_weights(X_train[0])\n",
    "    for i in range(epochs):\n",
    "        print(w, b)\n",
    "        print(10*\"--\")\n",
    "        for x, y in zip(X_train,y_train):  \n",
    "            wi = gradient_dw(x,y,w,b,alpha,N)\n",
    "            bi = gradient_db(x,y,w,b)\n",
    "            print(wi, bi)\n",
    "#             print(wi-w)\n",
    "#             print(bi-b)\n",
    "            w = wi\n",
    "            b = bi\n",
    "            if (bi-b) == 0:\n",
    "                break\n",
    "            # print(w,b)\n",
    "            \n",
    "#         print(\"Weight and intercept\")\n",
    "#         print(w, b)\n",
    "#         y_pred = pred(w,b,X_train)\n",
    "#         print(\"Train y true\")\n",
    "#         print(y_train)\n",
    "#         print(\"Train y prediction\")\n",
    "#         print(y_pred)\n",
    "#         loss = logloss(y_train,y_pred)\n",
    "#         print(\"train loss\")\n",
    "#         print(loss)\n",
    "#         train_loss_values.append(loss)\n",
    "#         y_pred = pred(w,b,X_test)\n",
    "#         print(\"Test y prediction\")\n",
    "#         print(y_pred)\n",
    "#         loss = logloss(y_train,y_pred)\n",
    "#         print(\"test loss\")\n",
    "#         print(loss)\n",
    "#         test_loss_values.append(loss)\n",
    "#     print(\"List of train and test loss\")\n",
    "#     print(train_loss_values, test_loss_values)\n",
    "    return w,b"
   ]
  },
  {
   "cell_type": "code",
   "execution_count": 235,
   "metadata": {
    "colab": {},
    "colab_type": "code",
    "id": "sUquz7LFEZ6E"
   },
   "outputs": [
    {
     "name": "stdout",
     "output_type": "stream",
     "text": [
      "15\n",
      "[0. 0. 0. 0. 0. 0. 0. 0. 0. 0. 0. 0. 0. 0. 0.] 0\n",
      "--------------------\n",
      "[-0.28007713 -0.28007713 -0.28007713 -0.28007713 -0.28007713 -0.28007713\n",
      " -0.28007713 -0.28007713 -0.28007713 -0.28007713 -0.28007713 -0.28007713\n",
      " -0.28007713 -0.28007713 -0.28007713] -0.5\n",
      "[-0.28007713 -0.28007713 -0.28007713 -0.28007713 -0.28007713 -0.28007713\n",
      " -0.28007713 -0.28007713 -0.28007713 -0.28007713 -0.28007713 -0.28007713\n",
      " -0.28007713 -0.28007713 -0.28007713] -0.5\n",
      "--------------------\n",
      "[-0.47131849 -0.47131849 -0.47131849 -0.47131849 -0.47131849 -0.47131849\n",
      " -0.47131849 -0.47131849 -0.47131849 -0.47131849 -0.47131849 -0.47131849\n",
      " -0.47131849 -0.47131849 -0.47131849] -0.841408377614893\n",
      "[-0.47131849 -0.47131849 -0.47131849 -0.47131849 -0.47131849 -0.47131849\n",
      " -0.47131849 -0.47131849 -0.47131849 -0.47131849 -0.47131849 -0.47131849\n",
      " -0.47131849 -0.47131849 -0.47131849] -0.841408377614893\n",
      "--------------------\n",
      "[-0.52829094 -0.52829094 -0.52829094 -0.52829094 -0.52829094 -0.52829094\n",
      " -0.52829094 -0.52829094 -0.52829094 -0.52829094 -0.52829094 -0.52829094\n",
      " -0.52829094 -0.52829094 -0.52829094] -0.9431168723672787\n",
      "[-0.52829094 -0.52829094 -0.52829094 -0.52829094 -0.52829094 -0.52829094\n",
      " -0.52829094 -0.52829094 -0.52829094 -0.52829094 -0.52829094 -0.52829094\n",
      " -0.52829094 -0.52829094 -0.52829094] -0.9431168723672787\n",
      "--------------------\n",
      "[-0.53708472 -0.53708472 -0.53708472 -0.53708472 -0.53708472 -0.53708472\n",
      " -0.53708472 -0.53708472 -0.53708472 -0.53708472 -0.53708472 -0.53708472\n",
      " -0.53708472 -0.53708472 -0.53708472] -0.9588157272152771\n",
      "[-0.53708472 -0.53708472 -0.53708472 -0.53708472 -0.53708472 -0.53708472\n",
      " -0.53708472 -0.53708472 -0.53708472 -0.53708472 -0.53708472 -0.53708472\n",
      " -0.53708472 -0.53708472 -0.53708472] -0.9588157272152771\n",
      "--------------------\n",
      "[-0.5382162 -0.5382162 -0.5382162 -0.5382162 -0.5382162 -0.5382162\n",
      " -0.5382162 -0.5382162 -0.5382162 -0.5382162 -0.5382162 -0.5382162\n",
      " -0.5382162 -0.5382162 -0.5382162] -0.9608356774459106\n",
      "[-0.5382162 -0.5382162 -0.5382162 -0.5382162 -0.5382162 -0.5382162\n",
      " -0.5382162 -0.5382162 -0.5382162 -0.5382162 -0.5382162 -0.5382162\n",
      " -0.5382162 -0.5382162 -0.5382162] -0.9608356774459106\n",
      "--------------------\n",
      "[-0.53835787 -0.53835787 -0.53835787 -0.53835787 -0.53835787 -0.53835787\n",
      " -0.53835787 -0.53835787 -0.53835787 -0.53835787 -0.53835787 -0.53835787\n",
      " -0.53835787 -0.53835787 -0.53835787] -0.9610885789945057\n",
      "[-0.53835787 -0.53835787 -0.53835787 -0.53835787 -0.53835787 -0.53835787\n",
      " -0.53835787 -0.53835787 -0.53835787 -0.53835787 -0.53835787 -0.53835787\n",
      " -0.53835787 -0.53835787 -0.53835787] -0.9610885789945057\n",
      "--------------------\n",
      "[-0.53837554 -0.53837554 -0.53837554 -0.53837554 -0.53837554 -0.53837554\n",
      " -0.53837554 -0.53837554 -0.53837554 -0.53837554 -0.53837554 -0.53837554\n",
      " -0.53837554 -0.53837554 -0.53837554] -0.9611201321542424\n",
      "[-0.53837554 -0.53837554 -0.53837554 -0.53837554 -0.53837554 -0.53837554\n",
      " -0.53837554 -0.53837554 -0.53837554 -0.53837554 -0.53837554 -0.53837554\n",
      " -0.53837554 -0.53837554 -0.53837554] -0.9611201321542424\n",
      "--------------------\n",
      "[-0.53837775 -0.53837775 -0.53837775 -0.53837775 -0.53837775 -0.53837775\n",
      " -0.53837775 -0.53837775 -0.53837775 -0.53837775 -0.53837775 -0.53837775\n",
      " -0.53837775 -0.53837775 -0.53837775] -0.9611240671484268\n",
      "[-0.53837775 -0.53837775 -0.53837775 -0.53837775 -0.53837775 -0.53837775\n",
      " -0.53837775 -0.53837775 -0.53837775 -0.53837775 -0.53837775 -0.53837775\n",
      " -0.53837775 -0.53837775 -0.53837775] -0.9611240671484268\n",
      "--------------------\n",
      "[-0.53837802 -0.53837802 -0.53837802 -0.53837802 -0.53837802 -0.53837802\n",
      " -0.53837802 -0.53837802 -0.53837802 -0.53837802 -0.53837802 -0.53837802\n",
      " -0.53837802 -0.53837802 -0.53837802] -0.9611245578547045\n",
      "[-0.53837802 -0.53837802 -0.53837802 -0.53837802 -0.53837802 -0.53837802\n",
      " -0.53837802 -0.53837802 -0.53837802 -0.53837802 -0.53837802 -0.53837802\n",
      " -0.53837802 -0.53837802 -0.53837802] -0.9611245578547045\n",
      "--------------------\n",
      "[-0.53837805 -0.53837805 -0.53837805 -0.53837805 -0.53837805 -0.53837805\n",
      " -0.53837805 -0.53837805 -0.53837805 -0.53837805 -0.53837805 -0.53837805\n",
      " -0.53837805 -0.53837805 -0.53837805] -0.9611246190469195\n",
      "[-0.53837805 -0.53837805 -0.53837805 -0.53837805 -0.53837805 -0.53837805\n",
      " -0.53837805 -0.53837805 -0.53837805 -0.53837805 -0.53837805 -0.53837805\n",
      " -0.53837805 -0.53837805 -0.53837805] -0.9611246190469195\n",
      "--------------------\n",
      "[-0.53837806 -0.53837806 -0.53837806 -0.53837806 -0.53837806 -0.53837806\n",
      " -0.53837806 -0.53837806 -0.53837806 -0.53837806 -0.53837806 -0.53837806\n",
      " -0.53837806 -0.53837806 -0.53837806] -0.9611246266777248\n",
      "[-0.53837806 -0.53837806 -0.53837806 -0.53837806 -0.53837806 -0.53837806\n",
      " -0.53837806 -0.53837806 -0.53837806 -0.53837806 -0.53837806 -0.53837806\n",
      " -0.53837806 -0.53837806 -0.53837806] -0.9611246266777248\n",
      "--------------------\n",
      "[-0.53837806 -0.53837806 -0.53837806 -0.53837806 -0.53837806 -0.53837806\n",
      " -0.53837806 -0.53837806 -0.53837806 -0.53837806 -0.53837806 -0.53837806\n",
      " -0.53837806 -0.53837806 -0.53837806] -0.9611246276293031\n",
      "[-0.53837806 -0.53837806 -0.53837806 -0.53837806 -0.53837806 -0.53837806\n",
      " -0.53837806 -0.53837806 -0.53837806 -0.53837806 -0.53837806 -0.53837806\n",
      " -0.53837806 -0.53837806 -0.53837806] -0.9611246276293031\n",
      "--------------------\n",
      "[-0.53837806 -0.53837806 -0.53837806 -0.53837806 -0.53837806 -0.53837806\n",
      " -0.53837806 -0.53837806 -0.53837806 -0.53837806 -0.53837806 -0.53837806\n",
      " -0.53837806 -0.53837806 -0.53837806] -0.9611246277479669\n",
      "[-0.53837806 -0.53837806 -0.53837806 -0.53837806 -0.53837806 -0.53837806\n",
      " -0.53837806 -0.53837806 -0.53837806 -0.53837806 -0.53837806 -0.53837806\n",
      " -0.53837806 -0.53837806 -0.53837806] -0.9611246277479669\n",
      "--------------------\n",
      "[-0.53837806 -0.53837806 -0.53837806 -0.53837806 -0.53837806 -0.53837806\n",
      " -0.53837806 -0.53837806 -0.53837806 -0.53837806 -0.53837806 -0.53837806\n",
      " -0.53837806 -0.53837806 -0.53837806] -0.9611246277627646\n",
      "[-0.53837806 -0.53837806 -0.53837806 -0.53837806 -0.53837806 -0.53837806\n",
      " -0.53837806 -0.53837806 -0.53837806 -0.53837806 -0.53837806 -0.53837806\n",
      " -0.53837806 -0.53837806 -0.53837806] -0.9611246277627646\n",
      "--------------------\n",
      "[-0.53837806 -0.53837806 -0.53837806 -0.53837806 -0.53837806 -0.53837806\n",
      " -0.53837806 -0.53837806 -0.53837806 -0.53837806 -0.53837806 -0.53837806\n",
      " -0.53837806 -0.53837806 -0.53837806] -0.9611246277646098\n",
      "[-0.53837806 -0.53837806 -0.53837806 -0.53837806 -0.53837806 -0.53837806\n",
      " -0.53837806 -0.53837806 -0.53837806 -0.53837806 -0.53837806 -0.53837806\n",
      " -0.53837806 -0.53837806 -0.53837806] -0.9611246277646098\n",
      "--------------------\n",
      "[-0.53837806 -0.53837806 -0.53837806 -0.53837806 -0.53837806 -0.53837806\n",
      " -0.53837806 -0.53837806 -0.53837806 -0.53837806 -0.53837806 -0.53837806\n",
      " -0.53837806 -0.53837806 -0.53837806] -0.96112462776484\n",
      "[-0.53837806 -0.53837806 -0.53837806 -0.53837806 -0.53837806 -0.53837806\n",
      " -0.53837806 -0.53837806 -0.53837806 -0.53837806 -0.53837806 -0.53837806\n",
      " -0.53837806 -0.53837806 -0.53837806] -0.96112462776484\n",
      "--------------------\n",
      "[-0.53837806 -0.53837806 -0.53837806 -0.53837806 -0.53837806 -0.53837806\n",
      " -0.53837806 -0.53837806 -0.53837806 -0.53837806 -0.53837806 -0.53837806\n",
      " -0.53837806 -0.53837806 -0.53837806] -0.9611246277648687\n",
      "[-0.53837806 -0.53837806 -0.53837806 -0.53837806 -0.53837806 -0.53837806\n",
      " -0.53837806 -0.53837806 -0.53837806 -0.53837806 -0.53837806 -0.53837806\n",
      " -0.53837806 -0.53837806 -0.53837806] -0.9611246277648687\n",
      "--------------------\n",
      "[-0.53837806 -0.53837806 -0.53837806 -0.53837806 -0.53837806 -0.53837806\n",
      " -0.53837806 -0.53837806 -0.53837806 -0.53837806 -0.53837806 -0.53837806\n",
      " -0.53837806 -0.53837806 -0.53837806] -0.9611246277648722\n",
      "[-0.53837806 -0.53837806 -0.53837806 -0.53837806 -0.53837806 -0.53837806\n",
      " -0.53837806 -0.53837806 -0.53837806 -0.53837806 -0.53837806 -0.53837806\n",
      " -0.53837806 -0.53837806 -0.53837806] -0.9611246277648722\n",
      "--------------------\n",
      "[-0.53837806 -0.53837806 -0.53837806 -0.53837806 -0.53837806 -0.53837806\n",
      " -0.53837806 -0.53837806 -0.53837806 -0.53837806 -0.53837806 -0.53837806\n",
      " -0.53837806 -0.53837806 -0.53837806] -0.9611246277648726\n",
      "[-0.53837806 -0.53837806 -0.53837806 -0.53837806 -0.53837806 -0.53837806\n",
      " -0.53837806 -0.53837806 -0.53837806 -0.53837806 -0.53837806 -0.53837806\n",
      " -0.53837806 -0.53837806 -0.53837806] -0.9611246277648726\n",
      "--------------------\n",
      "[-0.53837806 -0.53837806 -0.53837806 -0.53837806 -0.53837806 -0.53837806\n",
      " -0.53837806 -0.53837806 -0.53837806 -0.53837806 -0.53837806 -0.53837806\n",
      " -0.53837806 -0.53837806 -0.53837806] -0.9611246277648728\n",
      "[-0.53837806 -0.53837806 -0.53837806 -0.53837806 -0.53837806 -0.53837806\n",
      " -0.53837806 -0.53837806 -0.53837806 -0.53837806 -0.53837806 -0.53837806\n",
      " -0.53837806 -0.53837806 -0.53837806] -0.9611246277648728\n",
      "--------------------\n",
      "[-0.53837806 -0.53837806 -0.53837806 -0.53837806 -0.53837806 -0.53837806\n",
      " -0.53837806 -0.53837806 -0.53837806 -0.53837806 -0.53837806 -0.53837806\n",
      " -0.53837806 -0.53837806 -0.53837806] -0.9611246277648728\n",
      "[-0.53837806 -0.53837806 -0.53837806 -0.53837806 -0.53837806 -0.53837806\n",
      " -0.53837806 -0.53837806 -0.53837806 -0.53837806 -0.53837806 -0.53837806\n",
      " -0.53837806 -0.53837806 -0.53837806] -0.9611246277648728\n",
      "--------------------\n",
      "[-0.53837806 -0.53837806 -0.53837806 -0.53837806 -0.53837806 -0.53837806\n",
      " -0.53837806 -0.53837806 -0.53837806 -0.53837806 -0.53837806 -0.53837806\n",
      " -0.53837806 -0.53837806 -0.53837806] -0.9611246277648728\n",
      "[-0.53837806 -0.53837806 -0.53837806 -0.53837806 -0.53837806 -0.53837806\n",
      " -0.53837806 -0.53837806 -0.53837806 -0.53837806 -0.53837806 -0.53837806\n",
      " -0.53837806 -0.53837806 -0.53837806] -0.9611246277648728\n",
      "--------------------\n",
      "[-0.53837806 -0.53837806 -0.53837806 -0.53837806 -0.53837806 -0.53837806\n",
      " -0.53837806 -0.53837806 -0.53837806 -0.53837806 -0.53837806 -0.53837806\n",
      " -0.53837806 -0.53837806 -0.53837806] -0.9611246277648728\n",
      "[-0.53837806 -0.53837806 -0.53837806 -0.53837806 -0.53837806 -0.53837806\n",
      " -0.53837806 -0.53837806 -0.53837806 -0.53837806 -0.53837806 -0.53837806\n",
      " -0.53837806 -0.53837806 -0.53837806] -0.9611246277648728\n",
      "--------------------\n",
      "[-0.53837806 -0.53837806 -0.53837806 -0.53837806 -0.53837806 -0.53837806\n",
      " -0.53837806 -0.53837806 -0.53837806 -0.53837806 -0.53837806 -0.53837806\n",
      " -0.53837806 -0.53837806 -0.53837806] -0.9611246277648728\n",
      "[-0.53837806 -0.53837806 -0.53837806 -0.53837806 -0.53837806 -0.53837806\n",
      " -0.53837806 -0.53837806 -0.53837806 -0.53837806 -0.53837806 -0.53837806\n",
      " -0.53837806 -0.53837806 -0.53837806] -0.9611246277648728\n",
      "--------------------\n",
      "[-0.53837806 -0.53837806 -0.53837806 -0.53837806 -0.53837806 -0.53837806\n",
      " -0.53837806 -0.53837806 -0.53837806 -0.53837806 -0.53837806 -0.53837806\n",
      " -0.53837806 -0.53837806 -0.53837806] -0.9611246277648728\n",
      "[-0.53837806 -0.53837806 -0.53837806 -0.53837806 -0.53837806 -0.53837806\n",
      " -0.53837806 -0.53837806 -0.53837806 -0.53837806 -0.53837806 -0.53837806\n",
      " -0.53837806 -0.53837806 -0.53837806] -0.9611246277648728\n",
      "--------------------\n",
      "[-0.53837806 -0.53837806 -0.53837806 -0.53837806 -0.53837806 -0.53837806\n",
      " -0.53837806 -0.53837806 -0.53837806 -0.53837806 -0.53837806 -0.53837806\n",
      " -0.53837806 -0.53837806 -0.53837806] -0.9611246277648728\n",
      "[-0.53837806 -0.53837806 -0.53837806 -0.53837806 -0.53837806 -0.53837806\n",
      " -0.53837806 -0.53837806 -0.53837806 -0.53837806 -0.53837806 -0.53837806\n",
      " -0.53837806 -0.53837806 -0.53837806] -0.9611246277648728\n",
      "--------------------\n",
      "[-0.53837806 -0.53837806 -0.53837806 -0.53837806 -0.53837806 -0.53837806\n",
      " -0.53837806 -0.53837806 -0.53837806 -0.53837806 -0.53837806 -0.53837806\n",
      " -0.53837806 -0.53837806 -0.53837806] -0.9611246277648728\n",
      "[-0.53837806 -0.53837806 -0.53837806 -0.53837806 -0.53837806 -0.53837806\n",
      " -0.53837806 -0.53837806 -0.53837806 -0.53837806 -0.53837806 -0.53837806\n",
      " -0.53837806 -0.53837806 -0.53837806] -0.9611246277648728\n",
      "--------------------\n",
      "[-0.53837806 -0.53837806 -0.53837806 -0.53837806 -0.53837806 -0.53837806\n",
      " -0.53837806 -0.53837806 -0.53837806 -0.53837806 -0.53837806 -0.53837806\n",
      " -0.53837806 -0.53837806 -0.53837806] -0.9611246277648728\n",
      "[-0.53837806 -0.53837806 -0.53837806 -0.53837806 -0.53837806 -0.53837806\n",
      " -0.53837806 -0.53837806 -0.53837806 -0.53837806 -0.53837806 -0.53837806\n",
      " -0.53837806 -0.53837806 -0.53837806] -0.9611246277648728\n",
      "--------------------\n",
      "[-0.53837806 -0.53837806 -0.53837806 -0.53837806 -0.53837806 -0.53837806\n",
      " -0.53837806 -0.53837806 -0.53837806 -0.53837806 -0.53837806 -0.53837806\n",
      " -0.53837806 -0.53837806 -0.53837806] -0.9611246277648728\n",
      "[-0.53837806 -0.53837806 -0.53837806 -0.53837806 -0.53837806 -0.53837806\n",
      " -0.53837806 -0.53837806 -0.53837806 -0.53837806 -0.53837806 -0.53837806\n",
      " -0.53837806 -0.53837806 -0.53837806] -0.9611246277648728\n",
      "--------------------\n",
      "[-0.53837806 -0.53837806 -0.53837806 -0.53837806 -0.53837806 -0.53837806\n",
      " -0.53837806 -0.53837806 -0.53837806 -0.53837806 -0.53837806 -0.53837806\n",
      " -0.53837806 -0.53837806 -0.53837806] -0.9611246277648728\n",
      "[-0.53837806 -0.53837806 -0.53837806 -0.53837806 -0.53837806 -0.53837806\n",
      " -0.53837806 -0.53837806 -0.53837806 -0.53837806 -0.53837806 -0.53837806\n",
      " -0.53837806 -0.53837806 -0.53837806] -0.9611246277648728\n",
      "--------------------\n",
      "[-0.53837806 -0.53837806 -0.53837806 -0.53837806 -0.53837806 -0.53837806\n",
      " -0.53837806 -0.53837806 -0.53837806 -0.53837806 -0.53837806 -0.53837806\n",
      " -0.53837806 -0.53837806 -0.53837806] -0.9611246277648728\n",
      "[-0.53837806 -0.53837806 -0.53837806 -0.53837806 -0.53837806 -0.53837806\n",
      " -0.53837806 -0.53837806 -0.53837806 -0.53837806 -0.53837806 -0.53837806\n",
      " -0.53837806 -0.53837806 -0.53837806] -0.9611246277648728\n",
      "--------------------\n",
      "[-0.53837806 -0.53837806 -0.53837806 -0.53837806 -0.53837806 -0.53837806\n",
      " -0.53837806 -0.53837806 -0.53837806 -0.53837806 -0.53837806 -0.53837806\n",
      " -0.53837806 -0.53837806 -0.53837806] -0.9611246277648728\n",
      "[-0.53837806 -0.53837806 -0.53837806 -0.53837806 -0.53837806 -0.53837806\n",
      " -0.53837806 -0.53837806 -0.53837806 -0.53837806 -0.53837806 -0.53837806\n",
      " -0.53837806 -0.53837806 -0.53837806] -0.9611246277648728\n",
      "--------------------\n",
      "[-0.53837806 -0.53837806 -0.53837806 -0.53837806 -0.53837806 -0.53837806\n",
      " -0.53837806 -0.53837806 -0.53837806 -0.53837806 -0.53837806 -0.53837806\n",
      " -0.53837806 -0.53837806 -0.53837806] -0.9611246277648728\n",
      "[-0.53837806 -0.53837806 -0.53837806 -0.53837806 -0.53837806 -0.53837806\n",
      " -0.53837806 -0.53837806 -0.53837806 -0.53837806 -0.53837806 -0.53837806\n",
      " -0.53837806 -0.53837806 -0.53837806] -0.9611246277648728\n",
      "--------------------\n",
      "[-0.53837806 -0.53837806 -0.53837806 -0.53837806 -0.53837806 -0.53837806\n",
      " -0.53837806 -0.53837806 -0.53837806 -0.53837806 -0.53837806 -0.53837806\n",
      " -0.53837806 -0.53837806 -0.53837806] -0.9611246277648728\n",
      "[-0.53837806 -0.53837806 -0.53837806 -0.53837806 -0.53837806 -0.53837806\n",
      " -0.53837806 -0.53837806 -0.53837806 -0.53837806 -0.53837806 -0.53837806\n",
      " -0.53837806 -0.53837806 -0.53837806] -0.9611246277648728\n",
      "--------------------\n",
      "[-0.53837806 -0.53837806 -0.53837806 -0.53837806 -0.53837806 -0.53837806\n",
      " -0.53837806 -0.53837806 -0.53837806 -0.53837806 -0.53837806 -0.53837806\n",
      " -0.53837806 -0.53837806 -0.53837806] -0.9611246277648728\n",
      "[-0.53837806 -0.53837806 -0.53837806 -0.53837806 -0.53837806 -0.53837806\n",
      " -0.53837806 -0.53837806 -0.53837806 -0.53837806 -0.53837806 -0.53837806\n",
      " -0.53837806 -0.53837806 -0.53837806] -0.9611246277648728\n",
      "--------------------\n",
      "[-0.53837806 -0.53837806 -0.53837806 -0.53837806 -0.53837806 -0.53837806\n",
      " -0.53837806 -0.53837806 -0.53837806 -0.53837806 -0.53837806 -0.53837806\n",
      " -0.53837806 -0.53837806 -0.53837806] -0.9611246277648728\n",
      "[-0.53837806 -0.53837806 -0.53837806 -0.53837806 -0.53837806 -0.53837806\n",
      " -0.53837806 -0.53837806 -0.53837806 -0.53837806 -0.53837806 -0.53837806\n",
      " -0.53837806 -0.53837806 -0.53837806] -0.9611246277648728\n",
      "--------------------\n",
      "[-0.53837806 -0.53837806 -0.53837806 -0.53837806 -0.53837806 -0.53837806\n",
      " -0.53837806 -0.53837806 -0.53837806 -0.53837806 -0.53837806 -0.53837806\n",
      " -0.53837806 -0.53837806 -0.53837806] -0.9611246277648728\n",
      "[-0.53837806 -0.53837806 -0.53837806 -0.53837806 -0.53837806 -0.53837806\n",
      " -0.53837806 -0.53837806 -0.53837806 -0.53837806 -0.53837806 -0.53837806\n",
      " -0.53837806 -0.53837806 -0.53837806] -0.9611246277648728\n",
      "--------------------\n",
      "[-0.53837806 -0.53837806 -0.53837806 -0.53837806 -0.53837806 -0.53837806\n",
      " -0.53837806 -0.53837806 -0.53837806 -0.53837806 -0.53837806 -0.53837806\n",
      " -0.53837806 -0.53837806 -0.53837806] -0.9611246277648728\n",
      "[-0.53837806 -0.53837806 -0.53837806 -0.53837806 -0.53837806 -0.53837806\n",
      " -0.53837806 -0.53837806 -0.53837806 -0.53837806 -0.53837806 -0.53837806\n",
      " -0.53837806 -0.53837806 -0.53837806] -0.9611246277648728\n",
      "--------------------\n",
      "[-0.53837806 -0.53837806 -0.53837806 -0.53837806 -0.53837806 -0.53837806\n",
      " -0.53837806 -0.53837806 -0.53837806 -0.53837806 -0.53837806 -0.53837806\n",
      " -0.53837806 -0.53837806 -0.53837806] -0.9611246277648728\n",
      "[-0.53837806 -0.53837806 -0.53837806 -0.53837806 -0.53837806 -0.53837806\n",
      " -0.53837806 -0.53837806 -0.53837806 -0.53837806 -0.53837806 -0.53837806\n",
      " -0.53837806 -0.53837806 -0.53837806] -0.9611246277648728\n",
      "--------------------\n",
      "[-0.53837806 -0.53837806 -0.53837806 -0.53837806 -0.53837806 -0.53837806\n",
      " -0.53837806 -0.53837806 -0.53837806 -0.53837806 -0.53837806 -0.53837806\n",
      " -0.53837806 -0.53837806 -0.53837806] -0.9611246277648728\n",
      "[-0.53837806 -0.53837806 -0.53837806 -0.53837806 -0.53837806 -0.53837806\n",
      " -0.53837806 -0.53837806 -0.53837806 -0.53837806 -0.53837806 -0.53837806\n",
      " -0.53837806 -0.53837806 -0.53837806] -0.9611246277648728\n",
      "--------------------\n",
      "[-0.53837806 -0.53837806 -0.53837806 -0.53837806 -0.53837806 -0.53837806\n",
      " -0.53837806 -0.53837806 -0.53837806 -0.53837806 -0.53837806 -0.53837806\n",
      " -0.53837806 -0.53837806 -0.53837806] -0.9611246277648728\n",
      "[-0.53837806 -0.53837806 -0.53837806 -0.53837806 -0.53837806 -0.53837806\n",
      " -0.53837806 -0.53837806 -0.53837806 -0.53837806 -0.53837806 -0.53837806\n",
      " -0.53837806 -0.53837806 -0.53837806] -0.9611246277648728\n",
      "--------------------\n",
      "[-0.53837806 -0.53837806 -0.53837806 -0.53837806 -0.53837806 -0.53837806\n",
      " -0.53837806 -0.53837806 -0.53837806 -0.53837806 -0.53837806 -0.53837806\n",
      " -0.53837806 -0.53837806 -0.53837806] -0.9611246277648728\n",
      "[-0.53837806 -0.53837806 -0.53837806 -0.53837806 -0.53837806 -0.53837806\n",
      " -0.53837806 -0.53837806 -0.53837806 -0.53837806 -0.53837806 -0.53837806\n",
      " -0.53837806 -0.53837806 -0.53837806] -0.9611246277648728\n",
      "--------------------\n",
      "[-0.53837806 -0.53837806 -0.53837806 -0.53837806 -0.53837806 -0.53837806\n",
      " -0.53837806 -0.53837806 -0.53837806 -0.53837806 -0.53837806 -0.53837806\n",
      " -0.53837806 -0.53837806 -0.53837806] -0.9611246277648728\n",
      "[-0.53837806 -0.53837806 -0.53837806 -0.53837806 -0.53837806 -0.53837806\n",
      " -0.53837806 -0.53837806 -0.53837806 -0.53837806 -0.53837806 -0.53837806\n",
      " -0.53837806 -0.53837806 -0.53837806] -0.9611246277648728\n",
      "--------------------\n",
      "[-0.53837806 -0.53837806 -0.53837806 -0.53837806 -0.53837806 -0.53837806\n",
      " -0.53837806 -0.53837806 -0.53837806 -0.53837806 -0.53837806 -0.53837806\n",
      " -0.53837806 -0.53837806 -0.53837806] -0.9611246277648728\n",
      "[-0.53837806 -0.53837806 -0.53837806 -0.53837806 -0.53837806 -0.53837806\n",
      " -0.53837806 -0.53837806 -0.53837806 -0.53837806 -0.53837806 -0.53837806\n",
      " -0.53837806 -0.53837806 -0.53837806] -0.9611246277648728\n",
      "--------------------\n",
      "[-0.53837806 -0.53837806 -0.53837806 -0.53837806 -0.53837806 -0.53837806\n",
      " -0.53837806 -0.53837806 -0.53837806 -0.53837806 -0.53837806 -0.53837806\n",
      " -0.53837806 -0.53837806 -0.53837806] -0.9611246277648728\n",
      "[-0.53837806 -0.53837806 -0.53837806 -0.53837806 -0.53837806 -0.53837806\n",
      " -0.53837806 -0.53837806 -0.53837806 -0.53837806 -0.53837806 -0.53837806\n",
      " -0.53837806 -0.53837806 -0.53837806] -0.9611246277648728\n",
      "--------------------\n",
      "[-0.53837806 -0.53837806 -0.53837806 -0.53837806 -0.53837806 -0.53837806\n",
      " -0.53837806 -0.53837806 -0.53837806 -0.53837806 -0.53837806 -0.53837806\n",
      " -0.53837806 -0.53837806 -0.53837806] -0.9611246277648728\n",
      "[-0.53837806 -0.53837806 -0.53837806 -0.53837806 -0.53837806 -0.53837806\n",
      " -0.53837806 -0.53837806 -0.53837806 -0.53837806 -0.53837806 -0.53837806\n",
      " -0.53837806 -0.53837806 -0.53837806] -0.9611246277648728\n",
      "--------------------\n",
      "[-0.53837806 -0.53837806 -0.53837806 -0.53837806 -0.53837806 -0.53837806\n",
      " -0.53837806 -0.53837806 -0.53837806 -0.53837806 -0.53837806 -0.53837806\n",
      " -0.53837806 -0.53837806 -0.53837806] -0.9611246277648728\n",
      "[-0.53837806 -0.53837806 -0.53837806 -0.53837806 -0.53837806 -0.53837806\n",
      " -0.53837806 -0.53837806 -0.53837806 -0.53837806 -0.53837806 -0.53837806\n",
      " -0.53837806 -0.53837806 -0.53837806] -0.9611246277648728\n",
      "--------------------\n",
      "[-0.53837806 -0.53837806 -0.53837806 -0.53837806 -0.53837806 -0.53837806\n",
      " -0.53837806 -0.53837806 -0.53837806 -0.53837806 -0.53837806 -0.53837806\n",
      " -0.53837806 -0.53837806 -0.53837806] -0.9611246277648728\n",
      "[-0.53837806 -0.53837806 -0.53837806 -0.53837806 -0.53837806 -0.53837806\n",
      " -0.53837806 -0.53837806 -0.53837806 -0.53837806 -0.53837806 -0.53837806\n",
      " -0.53837806 -0.53837806 -0.53837806] -0.9611246277648728\n",
      "--------------------\n",
      "[-0.53837806 -0.53837806 -0.53837806 -0.53837806 -0.53837806 -0.53837806\n",
      " -0.53837806 -0.53837806 -0.53837806 -0.53837806 -0.53837806 -0.53837806\n",
      " -0.53837806 -0.53837806 -0.53837806] -0.9611246277648728\n",
      "[-0.53837806 -0.53837806 -0.53837806 -0.53837806 -0.53837806 -0.53837806\n",
      " -0.53837806 -0.53837806 -0.53837806 -0.53837806 -0.53837806 -0.53837806\n",
      " -0.53837806 -0.53837806 -0.53837806] -0.9611246277648728\n",
      "--------------------\n",
      "[-0.53837806 -0.53837806 -0.53837806 -0.53837806 -0.53837806 -0.53837806\n",
      " -0.53837806 -0.53837806 -0.53837806 -0.53837806 -0.53837806 -0.53837806\n",
      " -0.53837806 -0.53837806 -0.53837806] -0.9611246277648728\n"
     ]
    }
   ],
   "source": [
    "alpha=0.0001\n",
    "eta0=0.0001\n",
    "N=len(X_train)\n",
    "epochs=50\n",
    "w,b=train(X_train,y_train,X_test,y_test,epochs,alpha,eta0)"
   ]
  },
  {
   "cell_type": "code",
   "execution_count": 224,
   "metadata": {},
   "outputs": [
    {
     "data": {
      "text/plain": [
       "([0.2854748283156802,\n",
       "  0.2854748283156802,\n",
       "  0.2854748283156802,\n",
       "  0.2854748283156802,\n",
       "  0.2854748283156802,\n",
       "  0.2854748283156802,\n",
       "  0.2854748283156802,\n",
       "  0.2854748283156802,\n",
       "  0.2854748283156802,\n",
       "  0.2854748283156802,\n",
       "  0.2854748283156802,\n",
       "  0.2854748283156802,\n",
       "  0.2854748283156802,\n",
       "  0.2854748283156802,\n",
       "  0.2854748283156802,\n",
       "  0.2854748283156802,\n",
       "  0.2854748283156802,\n",
       "  0.2854748283156802,\n",
       "  0.2854748283156802,\n",
       "  0.2854748283156802,\n",
       "  0.2854748283156802,\n",
       "  0.2854748283156802,\n",
       "  0.2854748283156802,\n",
       "  0.2854748283156802,\n",
       "  0.2854748283156802,\n",
       "  0.2854748283156802,\n",
       "  0.2854748283156802,\n",
       "  0.2854748283156802,\n",
       "  0.2854748283156802,\n",
       "  0.2854748283156802,\n",
       "  0.2854748283156802,\n",
       "  0.2854748283156802,\n",
       "  0.2854748283156802,\n",
       "  0.2854748283156802,\n",
       "  0.2854748283156802,\n",
       "  0.2854748283156802,\n",
       "  0.2854748283156802,\n",
       "  0.2854748283156802,\n",
       "  0.2854748283156802,\n",
       "  0.2854748283156802,\n",
       "  0.2854748283156802,\n",
       "  0.2854748283156802,\n",
       "  0.2854748283156802,\n",
       "  0.2854748283156802,\n",
       "  0.2854748283156802,\n",
       "  0.2854748283156802,\n",
       "  0.2854748283156802,\n",
       "  0.2854748283156802,\n",
       "  0.2854748283156802,\n",
       "  0.2854748283156802],\n",
       " [0.0963365095989285,\n",
       "  0.0963365095989285,\n",
       "  0.0963365095989285,\n",
       "  0.0963365095989285,\n",
       "  0.0963365095989285,\n",
       "  0.0963365095989285,\n",
       "  0.0963365095989285,\n",
       "  0.0963365095989285,\n",
       "  0.0963365095989285,\n",
       "  0.0963365095989285,\n",
       "  0.0963365095989285,\n",
       "  0.0963365095989285,\n",
       "  0.0963365095989285,\n",
       "  0.0963365095989285,\n",
       "  0.0963365095989285,\n",
       "  0.0963365095989285,\n",
       "  0.0963365095989285,\n",
       "  0.0963365095989285,\n",
       "  0.0963365095989285,\n",
       "  0.0963365095989285,\n",
       "  0.0963365095989285,\n",
       "  0.0963365095989285,\n",
       "  0.0963365095989285,\n",
       "  0.0963365095989285,\n",
       "  0.0963365095989285,\n",
       "  0.0963365095989285,\n",
       "  0.0963365095989285,\n",
       "  0.0963365095989285,\n",
       "  0.0963365095989285,\n",
       "  0.0963365095989285,\n",
       "  0.0963365095989285,\n",
       "  0.0963365095989285,\n",
       "  0.0963365095989285,\n",
       "  0.0963365095989285,\n",
       "  0.0963365095989285,\n",
       "  0.0963365095989285,\n",
       "  0.0963365095989285,\n",
       "  0.0963365095989285,\n",
       "  0.0963365095989285,\n",
       "  0.0963365095989285,\n",
       "  0.0963365095989285,\n",
       "  0.0963365095989285,\n",
       "  0.0963365095989285,\n",
       "  0.0963365095989285,\n",
       "  0.0963365095989285,\n",
       "  0.0963365095989285,\n",
       "  0.0963365095989285,\n",
       "  0.0963365095989285,\n",
       "  0.0963365095989285,\n",
       "  0.0963365095989285])"
      ]
     },
     "execution_count": 224,
     "metadata": {},
     "output_type": "execute_result"
    }
   ],
   "source": [
    "train_loss_values, test_loss_values "
   ]
  },
  {
   "cell_type": "markdown",
   "metadata": {
    "colab_type": "text",
    "id": "l4Zf_wPARlwY"
   },
   "source": [
    "<font color='red'>Goal of assignment</font>"
   ]
  },
  {
   "cell_type": "markdown",
   "metadata": {
    "colab_type": "text",
    "id": "l3eF_VSPSH2z"
   },
   "source": [
    "Compare your implementation and SGDClassifier's the weights and intercept, make sure they are as close as possible i.e difference should be in terms of 10^-3"
   ]
  },
  {
   "cell_type": "code",
   "execution_count": 225,
   "metadata": {
    "colab": {},
    "colab_type": "code",
    "id": "nx8Rs9rfEZ1R"
   },
   "outputs": [
    {
     "data": {
      "text/plain": [
       "(array([[ 0.91328792, -0.60840755,  0.09915753, -0.60785499,  0.40755983,\n",
       "         -0.90913635,  0.91895129,  0.0966213 , -0.38269809, -0.39678302,\n",
       "         -0.22400535, -0.0272459 ,  0.11199595, -0.51760044, -0.0432228 ]]),\n",
       " array([1.14883265]))"
      ]
     },
     "execution_count": 225,
     "metadata": {},
     "output_type": "execute_result"
    }
   ],
   "source": [
    "# these are the results we got after we implemented sgd and found the optimal weights and intercept\n",
    "w-clf.coef_, b-clf.intercept_"
   ]
  },
  {
   "cell_type": "markdown",
   "metadata": {
    "colab_type": "text",
    "id": "230YbSgNSUrQ"
   },
   "source": [
    "<font color='blue'>Plot epoch number vs train , test loss </font>\n",
    "\n",
    "* epoch number on X-axis\n",
    "* loss on Y-axis"
   ]
  },
  {
   "cell_type": "code",
   "execution_count": 227,
   "metadata": {
    "colab": {},
    "colab_type": "code",
    "id": "1O6GrRt7UeCJ"
   },
   "outputs": [
    {
     "data": {
      "image/png": "[encoded data removed]",
      "text/plain": [
       "<Figure size 1080x360 with 2 Axes>"
      ]
     },
     "metadata": {
      "needs_background": "light"
     },
     "output_type": "display_data"
    }
   ],
   "source": [
    " # Taken idea from Naive Bayes Assignment\n",
    "import matplotlib.pyplot as plt\n",
    "\n",
    "plt.figure(figsize=(15,5))\n",
    "plt.subplot(1, 2, 1)\n",
    "epochlst=np.arange(0,epochs)\n",
    "plt.plot(epochlst, train_loss_values, label='Train Epoch learning curve')\n",
    "plt.scatter(epochlst, train_loss_values)\n",
    "plt.legend()\n",
    "plt.xlabel(\"Epoch\")\n",
    "plt.ylabel(\"Log Loss\")\n",
    "plt.title(\"Learning Graph\")\n",
    "plt.grid()\n",
    "\n",
    "\n",
    "plt.subplot(1, 2, 2)\n",
    "plt.plot(epochlst, test_loss_values, label='Test Epoch learning curve')\n",
    "plt.scatter(epochlst, test_loss_values)\n",
    "plt.xlabel(\"Epoch\")\n",
    "plt.ylabel(\"Log Loss\")\n",
    "plt.title(\"Learning Graph\")\n",
    "plt.legend()\n",
    "plt.grid()\n",
    "\n",
    "plt.show()\n"
   ]
  },
  {
   "cell_type": "code",
   "execution_count": null,
   "metadata": {
    "colab": {},
    "colab_type": "code",
    "id": "FUN8puFoEZtU"
   },
   "outputs": [],
   "source": [
    "def pred(w,b, X):\n",
    "    N = len(X)\n",
    "    predict = []\n",
    "    for i in range(N):\n",
    "        z=np.dot(w,X[i])+b\n",
    "        if sigmoid(z) >= 0.5: # sigmoid(w,x,b) returns 1/(1+exp(-(dot(x,w)+b)))\n",
    "            predict.append(1)\n",
    "        else:\n",
    "            predict.append(0)\n",
    "    return np.array(predict)\n",
    "print(1-np.sum(y_train - pred(w,b,X_train))/len(X_train))\n",
    "print(1-np.sum(y_test  - pred(w,b,X_test))/len(X_test))"
   ]
  },
  {
   "cell_type": "code",
   "execution_count": null,
   "metadata": {
    "colab": {},
    "colab_type": "code",
    "id": "-k28U1xDsLIO"
   },
   "outputs": [],
   "source": []
  },
  {
   "cell_type": "code",
   "execution_count": null,
   "metadata": {
    "colab": {},
    "colab_type": "code",
    "id": "RMokBfs3-2PY"
   },
   "outputs": [],
   "source": []
  }
 ],
 "metadata": {
  "colab": {
   "collapsed_sections": [],
   "name": "Assignment.ipynb",
   "provenance": []
  },
  "kernelspec": {
   "display_name": "Python 3",
   "language": "python",
   "name": "python3"
  },
  "language_info": {
   "codemirror_mode": {
    "name": "ipython",
    "version": 3
   },
   "file_extension": ".py",
   "mimetype": "text/x-python",
   "name": "python",
   "nbconvert_exporter": "python",
   "pygments_lexer": "ipython3",
   "version": "3.8.5"
  }
 },
 "nbformat": 4,
 "nbformat_minor": 1
}
